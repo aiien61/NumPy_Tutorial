{
 "cells": [
  {
   "cell_type": "code",
   "execution_count": 13,
   "metadata": {},
   "outputs": [],
   "source": [
    "import time\n",
    "import numpy as np"
   ]
  },
  {
   "cell_type": "markdown",
   "metadata": {},
   "source": [
    "# sort(), argsort()"
   ]
  },
  {
   "cell_type": "code",
   "execution_count": 2,
   "metadata": {},
   "outputs": [
    {
     "data": {
      "text/plain": [
       "array([98, 43, 66, 28,  2, 50, 36, 24, 67, 97, 25, 54, 65, 74, 97,  3, 38,\n",
       "       67, 65, 57])"
      ]
     },
     "execution_count": 2,
     "metadata": {},
     "output_type": "execute_result"
    }
   ],
   "source": [
    "a = np.random.randint(0, 100, size=20)\n",
    "a"
   ]
  },
  {
   "cell_type": "code",
   "execution_count": 3,
   "metadata": {},
   "outputs": [
    {
     "data": {
      "text/plain": [
       "array([ 2,  3, 24, 25, 28, 36, 38, 43, 50, 54, 57, 65, 65, 66, 67, 67, 74,\n",
       "       97, 97, 98])"
      ]
     },
     "execution_count": 3,
     "metadata": {},
     "output_type": "execute_result"
    }
   ],
   "source": [
    "np.sort(a)"
   ]
  },
  {
   "cell_type": "markdown",
   "metadata": {},
   "source": [
    "argsort() returns original indice of sorted elements"
   ]
  },
  {
   "cell_type": "code",
   "execution_count": 4,
   "metadata": {},
   "outputs": [
    {
     "data": {
      "text/plain": [
       "array([0, 2, 1])"
      ]
     },
     "execution_count": 4,
     "metadata": {},
     "output_type": "execute_result"
    }
   ],
   "source": [
    "a = np.array([1, 3, 2])\n",
    "np.argsort(a)"
   ]
  },
  {
   "cell_type": "markdown",
   "metadata": {},
   "source": [
    "### sorting 2-D array"
   ]
  },
  {
   "cell_type": "code",
   "execution_count": 5,
   "metadata": {},
   "outputs": [
    {
     "data": {
      "text/plain": [
       "array([[88,  1, 30, 96, 63],\n",
       "       [76, 80, 28, 67, 57],\n",
       "       [54, 95, 30, 69, 67],\n",
       "       [80, 71, 53, 94, 16]])"
      ]
     },
     "execution_count": 5,
     "metadata": {},
     "output_type": "execute_result"
    }
   ],
   "source": [
    "b = np.random.randint(0, 100, size=20).reshape(4, 5)\n",
    "b"
   ]
  },
  {
   "cell_type": "markdown",
   "metadata": {},
   "source": [
    "default axis = -1, which means last axis, so start from last axis to sort every 5 elements"
   ]
  },
  {
   "cell_type": "code",
   "execution_count": 6,
   "metadata": {},
   "outputs": [
    {
     "data": {
      "text/plain": [
       "array([[ 1, 30, 63, 88, 96],\n",
       "       [28, 57, 67, 76, 80],\n",
       "       [30, 54, 67, 69, 95],\n",
       "       [16, 53, 71, 80, 94]])"
      ]
     },
     "execution_count": 6,
     "metadata": {},
     "output_type": "execute_result"
    }
   ],
   "source": [
    "np.sort(b)"
   ]
  },
  {
   "cell_type": "markdown",
   "metadata": {},
   "source": [
    "return indice"
   ]
  },
  {
   "cell_type": "code",
   "execution_count": 7,
   "metadata": {},
   "outputs": [
    {
     "data": {
      "text/plain": [
       "array([[1, 2, 4, 0, 3],\n",
       "       [2, 4, 3, 0, 1],\n",
       "       [2, 0, 4, 3, 1],\n",
       "       [4, 2, 1, 0, 3]])"
      ]
     },
     "execution_count": 7,
     "metadata": {},
     "output_type": "execute_result"
    }
   ],
   "source": [
    "np.argsort(b)"
   ]
  },
  {
   "cell_type": "markdown",
   "metadata": {},
   "source": [
    "axis = 0, along with axis 0 to sort every 4 elements"
   ]
  },
  {
   "cell_type": "code",
   "execution_count": 8,
   "metadata": {},
   "outputs": [
    {
     "data": {
      "text/plain": [
       "array([[54,  1, 28, 67, 16],\n",
       "       [76, 71, 30, 69, 57],\n",
       "       [80, 80, 30, 94, 63],\n",
       "       [88, 95, 53, 96, 67]])"
      ]
     },
     "execution_count": 8,
     "metadata": {},
     "output_type": "execute_result"
    }
   ],
   "source": [
    "np.sort(b, axis=0)"
   ]
  },
  {
   "cell_type": "markdown",
   "metadata": {},
   "source": [
    "return indice"
   ]
  },
  {
   "cell_type": "code",
   "execution_count": 9,
   "metadata": {},
   "outputs": [
    {
     "data": {
      "text/plain": [
       "array([[2, 0, 1, 1, 3],\n",
       "       [1, 3, 0, 2, 1],\n",
       "       [3, 1, 2, 3, 0],\n",
       "       [0, 2, 3, 0, 2]])"
      ]
     },
     "execution_count": 9,
     "metadata": {},
     "output_type": "execute_result"
    }
   ],
   "source": [
    "np.argsort(b, axis=0)"
   ]
  },
  {
   "cell_type": "markdown",
   "metadata": {},
   "source": [
    "### sorting 3-D array"
   ]
  },
  {
   "cell_type": "code",
   "execution_count": 10,
   "metadata": {},
   "outputs": [
    {
     "data": {
      "text/plain": [
       "array([[[71, 89, 92, 28, 26],\n",
       "        [97, 31, 41,  8, 11],\n",
       "        [68,  7, 64, 33, 60],\n",
       "        [10,  8, 23, 31, 77]],\n",
       "\n",
       "       [[34, 57, 23, 65, 32],\n",
       "        [88, 81, 79, 82, 99],\n",
       "        [16, 52,  0, 75, 60],\n",
       "        [ 2, 31, 71, 24,  9]]])"
      ]
     },
     "execution_count": 10,
     "metadata": {},
     "output_type": "execute_result"
    }
   ],
   "source": [
    "c = np.random.randint(0, 100, size=(2, 4, 5))\n",
    "c"
   ]
  },
  {
   "cell_type": "markdown",
   "metadata": {},
   "source": [
    "sorting by axis 0"
   ]
  },
  {
   "cell_type": "code",
   "execution_count": 11,
   "metadata": {},
   "outputs": [
    {
     "data": {
      "text/plain": [
       "array([[[34, 57, 23, 28, 26],\n",
       "        [88, 31, 41,  8, 11],\n",
       "        [16,  7,  0, 33, 60],\n",
       "        [ 2,  8, 23, 24,  9]],\n",
       "\n",
       "       [[71, 89, 92, 65, 32],\n",
       "        [97, 81, 79, 82, 99],\n",
       "        [68, 52, 64, 75, 60],\n",
       "        [10, 31, 71, 31, 77]]])"
      ]
     },
     "execution_count": 11,
     "metadata": {},
     "output_type": "execute_result"
    }
   ],
   "source": [
    "np.sort(c, axis=0)"
   ]
  },
  {
   "cell_type": "markdown",
   "metadata": {},
   "source": [
    "return indice"
   ]
  },
  {
   "cell_type": "code",
   "execution_count": 12,
   "metadata": {},
   "outputs": [
    {
     "data": {
      "text/plain": [
       "array([[[1, 1, 1, 0, 0],\n",
       "        [1, 0, 0, 0, 0],\n",
       "        [1, 0, 1, 0, 0],\n",
       "        [1, 0, 0, 1, 1]],\n",
       "\n",
       "       [[0, 0, 0, 1, 1],\n",
       "        [0, 1, 1, 1, 1],\n",
       "        [0, 1, 0, 1, 1],\n",
       "        [0, 1, 1, 0, 0]]])"
      ]
     },
     "execution_count": 12,
     "metadata": {},
     "output_type": "execute_result"
    }
   ],
   "source": [
    "np.argsort(c, axis=0)"
   ]
  },
  {
   "cell_type": "markdown",
   "metadata": {},
   "source": [
    "# .sort()\n",
    "\n",
    "in-place sorting"
   ]
  },
  {
   "cell_type": "code",
   "execution_count": 27,
   "metadata": {},
   "outputs": [
    {
     "data": {
      "text/plain": [
       "array([60, 96, 16, 23, 85,  7, 94, 99, 49,  8, 89, 49, 66, 37, 84, 65, 41,\n",
       "       80, 39, 54])"
      ]
     },
     "execution_count": 27,
     "metadata": {},
     "output_type": "execute_result"
    }
   ],
   "source": [
    "a = np.random.randint(0, 100, 20)\n",
    "a"
   ]
  },
  {
   "cell_type": "markdown",
   "metadata": {},
   "source": [
    "using np.sort(), original a remains the same"
   ]
  },
  {
   "cell_type": "code",
   "execution_count": 28,
   "metadata": {},
   "outputs": [
    {
     "data": {
      "text/plain": [
       "array([60, 96, 16, 23, 85,  7, 94, 99, 49,  8, 89, 49, 66, 37, 84, 65, 41,\n",
       "       80, 39, 54])"
      ]
     },
     "execution_count": 28,
     "metadata": {},
     "output_type": "execute_result"
    }
   ],
   "source": [
    "np.sort(a)\n",
    "a"
   ]
  },
  {
   "cell_type": "markdown",
   "metadata": {},
   "source": [
    "using .sort(), original a will be affected immediately"
   ]
  },
  {
   "cell_type": "code",
   "execution_count": 29,
   "metadata": {},
   "outputs": [
    {
     "data": {
      "text/plain": [
       "array([ 7,  8, 16, 23, 37, 39, 41, 49, 49, 54, 60, 65, 66, 80, 84, 85, 89,\n",
       "       94, 96, 99])"
      ]
     },
     "execution_count": 29,
     "metadata": {},
     "output_type": "execute_result"
    }
   ],
   "source": [
    "a.sort()\n",
    "a"
   ]
  },
  {
   "cell_type": "markdown",
   "metadata": {},
   "source": [
    "### Sorting by order"
   ]
  },
  {
   "cell_type": "code",
   "execution_count": 14,
   "metadata": {},
   "outputs": [
    {
     "data": {
      "text/plain": [
       "array([(b'Alice', 12, 5.9), (b'Spring',  5, 8.9), (b'Monkey', 20, 3.5),\n",
       "       (b'Mia', 15, 6.1)],\n",
       "      dtype=[('name', 'S10'), ('ID', '<i8'), ('score', '<f8')])"
      ]
     },
     "execution_count": 14,
     "metadata": {},
     "output_type": "execute_result"
    }
   ],
   "source": [
    "values = [('Alice', 12, 5.9), ('Spring', 5, 8.9), ('Monkey', 20, 3.5), ('Mia', 15, 6.1)]\n",
    "dtypes = [('name', 'S10'), ('ID', int), ('score', float)]\n",
    "a = np.array(values, dtype=dtypes)\n",
    "a"
   ]
  },
  {
   "cell_type": "code",
   "execution_count": 15,
   "metadata": {},
   "outputs": [
    {
     "data": {
      "text/plain": [
       "array([(b'Monkey', 20, 3.5), (b'Alice', 12, 5.9), (b'Mia', 15, 6.1),\n",
       "       (b'Spring',  5, 8.9)],\n",
       "      dtype=[('name', 'S10'), ('ID', '<i8'), ('score', '<f8')])"
      ]
     },
     "execution_count": 15,
     "metadata": {},
     "output_type": "execute_result"
    }
   ],
   "source": [
    "np.sort(a, order='score')"
   ]
  },
  {
   "cell_type": "code",
   "execution_count": 17,
   "metadata": {},
   "outputs": [
    {
     "data": {
      "text/plain": [
       "array([2, 0, 3, 1])"
      ]
     },
     "execution_count": 17,
     "metadata": {},
     "output_type": "execute_result"
    }
   ],
   "source": [
    "np.argsort(a, order='score')"
   ]
  },
  {
   "cell_type": "code",
   "execution_count": 16,
   "metadata": {},
   "outputs": [
    {
     "data": {
      "text/plain": [
       "array([(b'Spring',  5, 8.9), (b'Alice', 12, 5.9), (b'Mia', 15, 6.1),\n",
       "       (b'Monkey', 20, 3.5)],\n",
       "      dtype=[('name', 'S10'), ('ID', '<i8'), ('score', '<f8')])"
      ]
     },
     "execution_count": 16,
     "metadata": {},
     "output_type": "execute_result"
    }
   ],
   "source": [
    "np.sort(a, order='ID')"
   ]
  },
  {
   "cell_type": "code",
   "execution_count": 18,
   "metadata": {},
   "outputs": [
    {
     "data": {
      "text/plain": [
       "array([(b'Monkey', 20, 3.5), (b'Alice', 12, 5.9), (b'Mia', 15, 6.1),\n",
       "       (b'Spring',  5, 8.9)],\n",
       "      dtype=[('name', 'S10'), ('ID', '<i8'), ('score', '<f8')])"
      ]
     },
     "execution_count": 18,
     "metadata": {},
     "output_type": "execute_result"
    }
   ],
   "source": [
    "np.sort(a, order=['score', 'ID'])"
   ]
  },
  {
   "cell_type": "markdown",
   "metadata": {},
   "source": [
    "Compare sorting algorithms"
   ]
  },
  {
   "cell_type": "code",
   "execution_count": 21,
   "metadata": {},
   "outputs": [],
   "source": [
    "\n",
    "def compare_sorting_methods(arr: np.ndarray):\n",
    "    start_time = time.time()\n",
    "    np.sort(arr, kind='quicksort')  # default\n",
    "    print(f'Quicksort: {time.time() - start_time} sec')\n",
    "    \n",
    "    start_time = time.time()\n",
    "    np.sort(arr, kind='mergesort')\n",
    "    print(f'Mergesort: {time.time() - start_time} sec')\n",
    "    \n",
    "    start_time = time.time()\n",
    "    np.sort(arr, kind='heapsort')\n",
    "    print(f'Heapsort: {time.time() - start_time} sec')"
   ]
  },
  {
   "cell_type": "code",
   "execution_count": 22,
   "metadata": {},
   "outputs": [
    {
     "name": "stdout",
     "output_type": "stream",
     "text": [
      "Quicksort: 0.00036716461181640625 sec\n",
      "Mergesort: 1.4066696166992188e-05 sec\n",
      "Heapsort: 5.9604644775390625e-06 sec\n"
     ]
    }
   ],
   "source": [
    "arr = np.random.randn(100)\n",
    "\n",
    "compare_sorting_methods(arr)"
   ]
  },
  {
   "cell_type": "code",
   "execution_count": 23,
   "metadata": {},
   "outputs": [
    {
     "name": "stdout",
     "output_type": "stream",
     "text": [
      "Quicksort: 0.0010769367218017578 sec\n",
      "Mergesort: 0.0008060932159423828 sec\n",
      "Heapsort: 8.893013000488281e-05 sec\n"
     ]
    }
   ],
   "source": [
    "arr = np.random.randn(1000)\n",
    "\n",
    "compare_sorting_methods(arr)"
   ]
  },
  {
   "cell_type": "code",
   "execution_count": 24,
   "metadata": {},
   "outputs": [
    {
     "name": "stdout",
     "output_type": "stream",
     "text": [
      "Quicksort: 0.00016808509826660156 sec\n",
      "Mergesort: 0.000982046127319336 sec\n",
      "Heapsort: 0.0008900165557861328 sec\n"
     ]
    }
   ],
   "source": [
    "arr = np.random.randn(10_000)\n",
    "\n",
    "compare_sorting_methods(arr)"
   ]
  },
  {
   "cell_type": "code",
   "execution_count": 26,
   "metadata": {},
   "outputs": [
    {
     "name": "stdout",
     "output_type": "stream",
     "text": [
      "Quicksort: 0.0014967918395996094 sec\n",
      "Mergesort: 0.009937286376953125 sec\n",
      "Heapsort: 0.013569831848144531 sec\n"
     ]
    }
   ],
   "source": [
    "arr = np.random.randn(100_000)\n",
    "compare_sorting_methods(arr)"
   ]
  },
  {
   "cell_type": "code",
   "execution_count": null,
   "metadata": {},
   "outputs": [],
   "source": []
  }
 ],
 "metadata": {
  "kernelspec": {
   "display_name": ".venv",
   "language": "python",
   "name": "python3"
  },
  "language_info": {
   "codemirror_mode": {
    "name": "ipython",
    "version": 3
   },
   "file_extension": ".py",
   "mimetype": "text/x-python",
   "name": "python",
   "nbconvert_exporter": "python",
   "pygments_lexer": "ipython3",
   "version": "3.11.5"
  }
 },
 "nbformat": 4,
 "nbformat_minor": 2
}
