{
 "cells": [
  {
   "cell_type": "code",
   "execution_count": 1,
   "metadata": {},
   "outputs": [],
   "source": [
    "import numpy as np"
   ]
  },
  {
   "cell_type": "markdown",
   "metadata": {},
   "source": [
    "# np.save()\n",
    "\n",
    "store into a $.npy$ file\n",
    "\n",
    "$npy$ file is only allowed to be compatible with Python"
   ]
  },
  {
   "cell_type": "code",
   "execution_count": 2,
   "metadata": {},
   "outputs": [],
   "source": [
    "a = np.random.randn(1200*1000).reshape(1200, -1)"
   ]
  },
  {
   "cell_type": "code",
   "execution_count": 3,
   "metadata": {},
   "outputs": [],
   "source": [
    "np.save('myfile', a)"
   ]
  },
  {
   "cell_type": "markdown",
   "metadata": {},
   "source": [
    "# np.load()\n",
    "\n",
    "read $.npy$ file"
   ]
  },
  {
   "cell_type": "code",
   "execution_count": 5,
   "metadata": {},
   "outputs": [
    {
     "data": {
      "text/plain": [
       "array([[-2.97837533, -1.39094508, -1.51927752, ..., -0.79998605,\n",
       "         2.01917505,  1.11661509],\n",
       "       [ 2.35931165, -0.8691628 , -0.41294612, ...,  0.67912497,\n",
       "        -1.48697276, -1.37330121],\n",
       "       [ 2.33121319, -0.63509338,  1.1763554 , ...,  0.83132973,\n",
       "        -0.48365747,  1.31139493],\n",
       "       ...,\n",
       "       [ 1.13470508,  0.7002156 , -0.42713117, ...,  0.62864421,\n",
       "        -1.71645007,  1.05891248],\n",
       "       [ 0.34021447, -1.08085185, -1.5998542 , ...,  0.3257834 ,\n",
       "        -1.25325631,  1.17105388],\n",
       "       [-0.41931631, -0.79290441, -1.30386448, ..., -1.12651777,\n",
       "        -1.87362956, -1.04969051]])"
      ]
     },
     "execution_count": 5,
     "metadata": {},
     "output_type": "execute_result"
    }
   ],
   "source": [
    "np.load('myfile.npy')"
   ]
  },
  {
   "cell_type": "code",
   "execution_count": 6,
   "metadata": {},
   "outputs": [],
   "source": [
    "c = np.random.randn(12 * 20 * 40).reshape(12, 20, 40)\n",
    "np.save('myfile2', c)"
   ]
  },
  {
   "cell_type": "code",
   "execution_count": 7,
   "metadata": {},
   "outputs": [
    {
     "data": {
      "text/plain": [
       "(12, 20, 40)"
      ]
     },
     "execution_count": 7,
     "metadata": {},
     "output_type": "execute_result"
    }
   ],
   "source": [
    "d = np.load('myfile2.npy')\n",
    "d.shape"
   ]
  },
  {
   "cell_type": "markdown",
   "metadata": {},
   "source": [
    "# np.savetxt()\n",
    "\n",
    "support .txt, .csv, .dat, .gz files\n",
    "\n",
    "only support 2-D or below dimensional arrays"
   ]
  },
  {
   "cell_type": "code",
   "execution_count": 13,
   "metadata": {},
   "outputs": [],
   "source": [
    "a = np.random.randn(3, 4)"
   ]
  },
  {
   "cell_type": "code",
   "execution_count": 14,
   "metadata": {},
   "outputs": [],
   "source": [
    "np.savetxt('sample1.txt', a)"
   ]
  },
  {
   "cell_type": "markdown",
   "metadata": {},
   "source": [
    "# np.loadtxt()"
   ]
  },
  {
   "cell_type": "code",
   "execution_count": 15,
   "metadata": {},
   "outputs": [
    {
     "data": {
      "text/plain": [
       "array([[ 1.36198688,  0.68291002, -0.29895788, -1.08767292],\n",
       "       [-1.99041286,  0.83097358,  0.52509302,  0.60386714],\n",
       "       [-0.61817274,  1.08880483,  0.35169944, -0.09667124]])"
      ]
     },
     "execution_count": 15,
     "metadata": {},
     "output_type": "execute_result"
    }
   ],
   "source": [
    "b = np.loadtxt('sample1.txt')\n",
    "b"
   ]
  },
  {
   "cell_type": "code",
   "execution_count": 16,
   "metadata": {},
   "outputs": [
    {
     "data": {
      "text/plain": [
       "array([[ 1.36198688,  0.68291002, -0.29895788, -1.08767292],\n",
       "       [-1.99041286,  0.83097358,  0.52509302,  0.60386714],\n",
       "       [-0.61817274,  1.08880483,  0.35169944, -0.09667124]])"
      ]
     },
     "execution_count": 16,
     "metadata": {},
     "output_type": "execute_result"
    }
   ],
   "source": [
    "a"
   ]
  },
  {
   "cell_type": "code",
   "execution_count": 17,
   "metadata": {},
   "outputs": [],
   "source": [
    "np.savetxt('sample.csv', a)"
   ]
  },
  {
   "cell_type": "code",
   "execution_count": 18,
   "metadata": {},
   "outputs": [
    {
     "data": {
      "text/plain": [
       "array([[ 1.36198688,  0.68291002, -0.29895788, -1.08767292],\n",
       "       [-1.99041286,  0.83097358,  0.52509302,  0.60386714],\n",
       "       [-0.61817274,  1.08880483,  0.35169944, -0.09667124]])"
      ]
     },
     "execution_count": 18,
     "metadata": {},
     "output_type": "execute_result"
    }
   ],
   "source": [
    "c = np.loadtxt('sample.csv')\n",
    "c"
   ]
  },
  {
   "cell_type": "markdown",
   "metadata": {},
   "source": [
    "*delimiter*"
   ]
  },
  {
   "cell_type": "code",
   "execution_count": 19,
   "metadata": {},
   "outputs": [],
   "source": [
    "np.savetxt('sample2.txt', a, delimiter=',')"
   ]
  },
  {
   "cell_type": "code",
   "execution_count": 20,
   "metadata": {},
   "outputs": [
    {
     "name": "stdout",
     "output_type": "stream",
     "text": [
      "could not convert string '1.361986882328677595e+00,6.829100210487035749e-01,-2.989578754906453972e-01,-1.087672919738606581e+ to float64 at row 0, column 1.\n"
     ]
    }
   ],
   "source": [
    "try:\n",
    "    np.loadtxt('sample2.txt')\n",
    "except ValueError as e:\n",
    "    print(e)"
   ]
  },
  {
   "cell_type": "code",
   "execution_count": 21,
   "metadata": {},
   "outputs": [
    {
     "data": {
      "text/plain": [
       "array([[ 1.36198688,  0.68291002, -0.29895788, -1.08767292],\n",
       "       [-1.99041286,  0.83097358,  0.52509302,  0.60386714],\n",
       "       [-0.61817274,  1.08880483,  0.35169944, -0.09667124]])"
      ]
     },
     "execution_count": 21,
     "metadata": {},
     "output_type": "execute_result"
    }
   ],
   "source": [
    "e = np.loadtxt('sample2.txt', delimiter=',')\n",
    "e"
   ]
  },
  {
   "cell_type": "markdown",
   "metadata": {},
   "source": [
    "*fmt* (format)"
   ]
  },
  {
   "cell_type": "code",
   "execution_count": 22,
   "metadata": {},
   "outputs": [],
   "source": [
    "np.savetxt('sample3.txt', a, fmt='%.2e')"
   ]
  },
  {
   "cell_type": "code",
   "execution_count": 23,
   "metadata": {},
   "outputs": [],
   "source": [
    "np.savetxt('sample4.txt', a, fmt='%.2f')"
   ]
  },
  {
   "cell_type": "markdown",
   "metadata": {},
   "source": [
    "*header, footer, comments* "
   ]
  },
  {
   "cell_type": "code",
   "execution_count": 24,
   "metadata": {},
   "outputs": [],
   "source": [
    "np.savetxt('sample5.txt', a, fmt='%.3e', header='this is a header', footer='this is a footer')"
   ]
  },
  {
   "cell_type": "code",
   "execution_count": 25,
   "metadata": {},
   "outputs": [],
   "source": [
    "np.savetxt('sample6.txt', a, fmt='%.3e', header='this is a header', footer='this is a footer', comments='>>>')"
   ]
  },
  {
   "cell_type": "markdown",
   "metadata": {},
   "source": [
    "*usecols, skiprows*"
   ]
  },
  {
   "cell_type": "code",
   "execution_count": 27,
   "metadata": {},
   "outputs": [
    {
     "data": {
      "text/plain": [
       "array([[ 1.36,  0.68, -0.3 , -1.09],\n",
       "       [-1.99,  0.83,  0.53,  0.6 ],\n",
       "       [-0.62,  1.09,  0.35, -0.1 ]])"
      ]
     },
     "execution_count": 27,
     "metadata": {},
     "output_type": "execute_result"
    }
   ],
   "source": [
    "np.loadtxt('sample4.txt')\n"
   ]
  },
  {
   "cell_type": "code",
   "execution_count": 26,
   "metadata": {},
   "outputs": [
    {
     "data": {
      "text/plain": [
       "array([[ 1.36, -0.3 ],\n",
       "       [-1.99,  0.53],\n",
       "       [-0.62,  0.35]])"
      ]
     },
     "execution_count": 26,
     "metadata": {},
     "output_type": "execute_result"
    }
   ],
   "source": [
    "# fetch 0th and 2nd columns only\n",
    "np.loadtxt('sample4.txt', usecols=(0, 2))"
   ]
  },
  {
   "cell_type": "code",
   "execution_count": 30,
   "metadata": {},
   "outputs": [
    {
     "data": {
      "text/plain": [
       "array([[-1.99,  0.83,  0.53,  0.6 ],\n",
       "       [-0.62,  1.09,  0.35, -0.1 ]])"
      ]
     },
     "execution_count": 30,
     "metadata": {},
     "output_type": "execute_result"
    }
   ],
   "source": [
    "# skip first 1 row\n",
    "np.loadtxt('sample4.txt', skiprows=1)"
   ]
  },
  {
   "cell_type": "code",
   "execution_count": 31,
   "metadata": {},
   "outputs": [
    {
     "data": {
      "text/plain": [
       "array([-0.62,  1.09,  0.35, -0.1 ])"
      ]
     },
     "execution_count": 31,
     "metadata": {},
     "output_type": "execute_result"
    }
   ],
   "source": [
    "# skip first 2 rows\n",
    "np.loadtxt('sample4.txt', skiprows=2)"
   ]
  },
  {
   "cell_type": "markdown",
   "metadata": {},
   "source": [
    "*dtype, unpack, converts*"
   ]
  },
  {
   "cell_type": "code",
   "execution_count": 58,
   "metadata": {},
   "outputs": [
    {
     "data": {
      "text/plain": [
       "array([(18, b'female', 150., b'No'), (21, b'male', 170., b'Yes'),\n",
       "       (22, b'female', 160., b'Yes'), (23, b'male', 180., b'Yes'),\n",
       "       (25, b'female', 150., b'No')],\n",
       "      dtype=[('age', '<i8'), ('gender', 'S10'), ('tall[cm]', '<f8'), ('driving_licence', 'S10')])"
      ]
     },
     "execution_count": 58,
     "metadata": {},
     "output_type": "execute_result"
    }
   ],
   "source": [
    "np.loadtxt('foo.csv', dtype=[('age', 'i8'), ('gender', 'S10'), ('tall[cm]', 'f8'), ('driving_licence', 'S10')], delimiter=',')"
   ]
  },
  {
   "cell_type": "code",
   "execution_count": 59,
   "metadata": {},
   "outputs": [
    {
     "data": {
      "text/plain": [
       "[array([18, 21, 22, 23, 25]),\n",
       " array([b'female', b'male', b'female', b'male', b'female'], dtype='|S10'),\n",
       " array([150., 170., 160., 180., 150.]),\n",
       " array([b'No', b'Yes', b'Yes', b'Yes', b'No'], dtype='|S10')]"
      ]
     },
     "execution_count": 59,
     "metadata": {},
     "output_type": "execute_result"
    }
   ],
   "source": [
    "np.loadtxt('foo.csv', dtype=[('age', 'i8'), ('gender', 'S10'), ('tall[cm]', 'f8'), ('driving_licence', 'S10')], unpack=True, delimiter=',')"
   ]
  },
  {
   "cell_type": "code",
   "execution_count": 61,
   "metadata": {},
   "outputs": [],
   "source": [
    "age, gender, tall, driving_licence = np.loadtxt('foo.csv', dtype=[('age', 'i8'), ('gender', 'S10'), ('tall[cm]', 'f8'), ('driving_licence', 'S10')], unpack=True, delimiter=',')"
   ]
  },
  {
   "cell_type": "code",
   "execution_count": 62,
   "metadata": {},
   "outputs": [
    {
     "data": {
      "text/plain": [
       "array([18, 21, 22, 23, 25])"
      ]
     },
     "execution_count": 62,
     "metadata": {},
     "output_type": "execute_result"
    }
   ],
   "source": [
    "age"
   ]
  },
  {
   "cell_type": "code",
   "execution_count": 63,
   "metadata": {},
   "outputs": [
    {
     "data": {
      "text/plain": [
       "array([b'female', b'male', b'female', b'male', b'female'], dtype='|S10')"
      ]
     },
     "execution_count": 63,
     "metadata": {},
     "output_type": "execute_result"
    }
   ],
   "source": [
    "gender"
   ]
  },
  {
   "cell_type": "code",
   "execution_count": 64,
   "metadata": {},
   "outputs": [
    {
     "data": {
      "text/plain": [
       "array([150., 170., 160., 180., 150.])"
      ]
     },
     "execution_count": 64,
     "metadata": {},
     "output_type": "execute_result"
    }
   ],
   "source": [
    "tall"
   ]
  },
  {
   "cell_type": "code",
   "execution_count": 65,
   "metadata": {},
   "outputs": [
    {
     "data": {
      "text/plain": [
       "array([b'No', b'Yes', b'Yes', b'Yes', b'No'], dtype='|S10')"
      ]
     },
     "execution_count": 65,
     "metadata": {},
     "output_type": "execute_result"
    }
   ],
   "source": [
    "driving_licence"
   ]
  },
  {
   "cell_type": "code",
   "execution_count": 66,
   "metadata": {},
   "outputs": [],
   "source": [
    "def driving_licence(string):\n",
    "    return 1 if string == b'Yes' else 0\n",
    "\n",
    "def gender(string):\n",
    "    return 1 if string == b'male' else 0    "
   ]
  },
  {
   "cell_type": "code",
   "execution_count": 67,
   "metadata": {},
   "outputs": [
    {
     "data": {
      "text/plain": [
       "array([[ 18.,   0., 150.,   0.],\n",
       "       [ 21.,   1., 170.,   1.],\n",
       "       [ 22.,   0., 160.,   1.],\n",
       "       [ 23.,   1., 180.,   1.],\n",
       "       [ 25.,   0., 150.,   0.]])"
      ]
     },
     "execution_count": 67,
     "metadata": {},
     "output_type": "execute_result"
    }
   ],
   "source": [
    "np.loadtxt('foo.csv', converters={1: gender, 3: driving_licence}, delimiter=',')"
   ]
  },
  {
   "cell_type": "code",
   "execution_count": null,
   "metadata": {},
   "outputs": [],
   "source": []
  }
 ],
 "metadata": {
  "kernelspec": {
   "display_name": ".venv",
   "language": "python",
   "name": "python3"
  },
  "language_info": {
   "codemirror_mode": {
    "name": "ipython",
    "version": 3
   },
   "file_extension": ".py",
   "mimetype": "text/x-python",
   "name": "python",
   "nbconvert_exporter": "python",
   "pygments_lexer": "ipython3",
   "version": "3.11.5"
  }
 },
 "nbformat": 4,
 "nbformat_minor": 2
}
